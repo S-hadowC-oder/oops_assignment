{
 "cells": [
  {
   "cell_type": "code",
   "execution_count": null,
   "metadata": {},
   "outputs": [],
   "source": [
    "# 1. What are the five key concepts of Object-Oriented Programming (OOP)?\n",
    "\n",
    "# 2. Write a Python class for a `Car` with attributes for `make`, `model`, and `year`. Include a method to display\n",
    "# the car's information.\n",
    "\n",
    "# 3. Explain the difference between instance methods and class methods. Provide an example of each.\n",
    "\n",
    "# 4. How does Python implement method overloading? Give an example.\n",
    "\n",
    "# 5. What are the three types of access modifiers in Python? How are they denoted?\n",
    "\n",
    "# 6. Describe the five types of inheritance in Python. Provide a simple example of multiple inheritance.\n",
    "\n",
    "# 7. What is the Method Resolution Order (MRO) in Python? How can you retrieve it programmatically?\n",
    "\n",
    "# 8. Create an abstract base class `Shape` with an abstract method `area()`. Then create two subclasses\n",
    "# `Circle` and `Rectangle` that implement the `area()` method.\n",
    "\n",
    "# 9. Demonstrate polymorphism by creating a function that can work with different shape objects to calculate\n",
    "# and print their areas.\n",
    "\n",
    "# 10. Implement encapsulation in a `BankAccount` class with private attributes for `balance` and\n",
    "# `account_number`. Include methods for deposit, withdrawal, and balance inquiry.\n",
    "\n",
    "# 11. Write a class that overrides the `__str__` and `__add__` magic methods. What will these methods allow\n",
    "# you to do?\n",
    "\n",
    "# 12. Create a decorator that measures and prints the execution time of a function.\n",
    "\n",
    "# 13. Explain the concept of the Diamond Problem in multiple inheritance. How does Python resolve it?\n",
    "\n",
    "# 14. Write a class method that keeps track of the number of instances created from a class.\n",
    "\n",
    "# 15. Implement a static method in a class that checks if a given year is a leap year.\n"
   ]
  },
  {
   "cell_type": "code",
   "execution_count": 1,
   "metadata": {},
   "outputs": [
    {
     "data": {
      "text/plain": [
       "'Encapsulation: Bundling data and methods that operate on the data into a single unit or class, restricting direct access to some components.\\nAbstraction: Hiding complex implementation details and showing only the necessary functionality.\\nInheritance: Creating new classes based on existing classes, inheriting properties and behaviors.\\nPolymorphism: Allowing objects of different classes to be treated as instances of the same class through shared methods.\\nClass/Object: A class is a blueprint for creating objects (instances), and an object is an instance of a class.'"
      ]
     },
     "execution_count": 1,
     "metadata": {},
     "output_type": "execute_result"
    }
   ],
   "source": [
    "# 1. Five Key Concepts of Object-Oriented Programming (OOP):\n",
    "\n",
    "'''Encapsulation: Bundling data and methods that operate on the data into a single unit or class, restricting direct access to some components.\n",
    "Abstraction: Hiding complex implementation details and showing only the necessary functionality.\n",
    "Inheritance: Creating new classes based on existing classes, inheriting properties and behaviors.\n",
    "Polymorphism: Allowing objects of different classes to be treated as instances of the same class through shared methods.\n",
    "Class/Object: A class is a blueprint for creating objects (instances), and an object is an instance of a class.'''"
   ]
  },
  {
   "cell_type": "code",
   "execution_count": 2,
   "metadata": {},
   "outputs": [
    {
     "name": "stdout",
     "output_type": "stream",
     "text": [
      "Brand: Toyota,Model:Supra,year:1992,color:Silver \n"
     ]
    }
   ],
   "source": [
    "# 2. python class for car\n",
    "class Car:\n",
    "    def __init__(self, brand, model, year, color):\n",
    "        self.brand = brand\n",
    "        self.model = model\n",
    "        self.year = year \n",
    "        self.color = color\n",
    "\n",
    "    def display_info(self):\n",
    "        print(f\"Brand: {self.brand},Model:{self.model},year:{self.year},color:{self.color} \")\n",
    "\n",
    "car = Car(\"Toyota\", \"Supra\",\"1992\",\"Silver\")\n",
    "car.display_info()"
   ]
  },
  {
   "cell_type": "code",
   "execution_count": 5,
   "metadata": {},
   "outputs": [
    {
     "name": "stdout",
     "output_type": "stream",
     "text": [
      "Instance method is called by Madara\n",
      "Class method is called by 0\n"
     ]
    }
   ],
   "source": [
    "# 3.Instance Methods vs. Class Methods:\n",
    "\n",
    "'''Instance Method: Operates on an instance of a class. It can access and modify the object’s attributes.\n",
    "Class Method: Operates on the class itself, not on an instance, and it is called using the class, not an instance. It can modify class-level attributes'''\n",
    "\n",
    "#example code\n",
    "class MyClass:\n",
    "    count = 0\n",
    "\n",
    "    def __init__(self,name):\n",
    "        self.name = name\n",
    "        \n",
    "    def instance_method(slef):\n",
    "        print(f\"Instance method is called by {slef.name}\")\n",
    "    \n",
    "    @classmethod\n",
    "    def class_method(cls):\n",
    "        print(f\"Class method is called by {cls.count}\")\n",
    "\n",
    "e1 = MyClass(\"Madara\")\n",
    "e1.instance_method()\n",
    "MyClass.class_method()"
   ]
  },
  {
   "cell_type": "code",
   "execution_count": 8,
   "metadata": {},
   "outputs": [
    {
     "name": "stdout",
     "output_type": "stream",
     "text": [
      "Hello!\n",
      "Hello, Aditya!\n"
     ]
    }
   ],
   "source": [
    "# 4.Method Overloading in Python: Python does not support traditional method overloading (same method name with different parameters). Instead, method overloading can be simulated using default arguments or variable-length arguments (*args, **kwargs).\n",
    "\n",
    "#example code:\n",
    "class Example:\n",
    "    def greet(self, name=None):\n",
    "        if name:\n",
    "            print(f\"Hello, {name}!\")\n",
    "        else:\n",
    "            print(\"Hello!\")\n",
    "\n",
    "e = Example()\n",
    "e.greet()         # Hello!\n",
    "e.greet(\"Aditya\")  # Hello, Alice!\n",
    "\n"
   ]
  },
  {
   "cell_type": "code",
   "execution_count": 9,
   "metadata": {},
   "outputs": [
    {
     "data": {
      "text/plain": [
       "'Private: Accessible only within the class. Denoted by a double underscore. (self.__attribute)'"
      ]
     },
     "execution_count": 9,
     "metadata": {},
     "output_type": "execute_result"
    }
   ],
   "source": [
    "#5. Three Types of Access Modifiers in Python:\n",
    "\n",
    "'''Public: Accessible from anywhere. Denoted by normal naming. (self.attribute)'''\n",
    "'''Protected: Accessible within the class and its subclasses. Denoted by a single underscore. (self._attribute)'''\n",
    "'''Private: Accessible only within the class. Denoted by a double underscore. (self.__attribute)'''"
   ]
  },
  {
   "cell_type": "code",
   "execution_count": 12,
   "metadata": {},
   "outputs": [
    {
     "name": "stdout",
     "output_type": "stream",
     "text": [
      "Addition: 30\n",
      "Subtraction: 10\n",
      "Multiplication: 200\n",
      "Division: 2.0\n"
     ]
    }
   ],
   "source": [
    "# 6.Five Types of Inheritance in Python:\n",
    "\n",
    "'''Single Inheritance: A class inherits from one base class.\n",
    "Multiple Inheritance: A class inherits from more than one base class.\n",
    "Multilevel Inheritance: A class inherits from a class, which itself inherits from another class.\n",
    "Hierarchical Inheritance: Multiple classes inherit from a single base class.\n",
    "Hybrid Inheritance: A combination of two or more types of inheritance.'''\n",
    "#Example code ofr Moltiple inheritance:\n",
    "# Class for addition\n",
    "class Addition:\n",
    "    def add(self, a, b):\n",
    "        return a + b\n",
    "\n",
    "# Class for subtraction\n",
    "class Subtraction:\n",
    "    def subtract(self, a, b):\n",
    "        return a - b\n",
    "\n",
    "# Class for multiplication\n",
    "class Multiplication:\n",
    "    def multiply(self, a, b):\n",
    "        return a * b\n",
    "\n",
    "# Class for division\n",
    "class Division:\n",
    "    def divide(self, a, b):\n",
    "        if b == 0:\n",
    "            return \"Cannot divide by zero\"\n",
    "        return a / b\n",
    "\n",
    "# Calculator class using multiple inheritance\n",
    "class Calculator(Addition, Subtraction, Multiplication, Division):\n",
    "    pass\n",
    "\n",
    "# Create an instance of the Calculator\n",
    "calc = Calculator()\n",
    "\n",
    "# Perform operations\n",
    "a, b = 20, 10\n",
    "\n",
    "print(\"Addition:\", calc.add(a, b))         \n",
    "print(\"Subtraction:\", calc.subtract(a, b)) \n",
    "print(\"Multiplication:\", calc.multiply(a, b)) \n",
    "print(\"Division:\", calc.divide(a, b))      \n",
    "\n"
   ]
  },
  {
   "cell_type": "code",
   "execution_count": 13,
   "metadata": {},
   "outputs": [
    {
     "name": "stdout",
     "output_type": "stream",
     "text": [
      "(<class '__main__.C'>, <class '__main__.A'>, <class '__main__.B'>, <class 'object'>)\n"
     ]
    }
   ],
   "source": [
    "#7. Method Resolution Order (MRO): MRO defines the order in which methods are inherited in the presence of multiple inheritance. It uses the C3 linearization algorithm.\n",
    "print(C.__mro__)  \n"
   ]
  },
  {
   "cell_type": "code",
   "execution_count": 15,
   "metadata": {},
   "outputs": [
    {
     "name": "stdout",
     "output_type": "stream",
     "text": [
      "Area of Circle: 78.5\n",
      "Area of Rectangle: 24\n"
     ]
    }
   ],
   "source": [
    "#8. Abstract Base Class Shape:\n",
    "\n",
    "from abc import ABC, abstractmethod\n",
    "\n",
    "class Shape(ABC):\n",
    "    @abstractmethod\n",
    "    def area(self):\n",
    "        pass\n",
    "\n",
    "class Circle(Shape):\n",
    "    def __init__(self, radius):\n",
    "        self.radius = radius\n",
    "\n",
    "    def area(self):\n",
    "        return 3.14 * self.radius ** 2\n",
    "\n",
    "class Rectangle(Shape):\n",
    "    def __init__(self, width, height):\n",
    "        self.width = width\n",
    "        self.height = height\n",
    "\n",
    "    def area(self):\n",
    "        return self.width * self.height\n",
    "\n",
    "circle = Circle(5)      # Circle with radius 5\n",
    "rectangle = Rectangle(4, 6)  # Rectangle with width 4 and height 6\n",
    "\n",
    "# Print the areas\n",
    "print(\"Area of Circle:\", circle.area())      \n",
    "print(\"Area of Rectangle:\", rectangle.area())"
   ]
  },
  {
   "cell_type": "code",
   "execution_count": 16,
   "metadata": {},
   "outputs": [
    {
     "name": "stdout",
     "output_type": "stream",
     "text": [
      "Area: 78.5\n",
      "Area: 12\n"
     ]
    }
   ],
   "source": [
    "#9. Polymorphism Example:\n",
    "def print_area(shape):\n",
    "    print(f\"Area: {shape.area()}\")\n",
    "\n",
    "circle = Circle(5)\n",
    "rectangle = Rectangle(3, 4)\n",
    "\n",
    "print_area(circle)     \n",
    "print_area(rectangle)  \n",
    "\n"
   ]
  },
  {
   "cell_type": "code",
   "execution_count": 17,
   "metadata": {},
   "outputs": [
    {
     "name": "stdout",
     "output_type": "stream",
     "text": [
      "100\n"
     ]
    }
   ],
   "source": [
    "# 10.Encapsulation in BankAccount:\n",
    "class BankAccount:\n",
    "    def __init__(self, account_number, balance=0):\n",
    "        self.__account_number = account_number\n",
    "        self.__balance = balance\n",
    "\n",
    "    def deposit(self, amount):\n",
    "        if amount > 0:\n",
    "            self.__balance += amount\n",
    "\n",
    "    def withdraw(self, amount):\n",
    "        if amount <= self.__balance:\n",
    "            self.__balance -= amount\n",
    "\n",
    "    def get_balance(self):\n",
    "        return self.__balance\n",
    "\n",
    "account = BankAccount(123456)\n",
    "account.deposit(100)\n",
    "print(account.get_balance())  # Output: 100\n",
    "\n"
   ]
  },
  {
   "cell_type": "code",
   "execution_count": 18,
   "metadata": {},
   "outputs": [
    {
     "name": "stdout",
     "output_type": "stream",
     "text": [
      "CustomNumber: 10\n",
      "CustomNumber: 30\n"
     ]
    }
   ],
   "source": [
    "# 11. Overriding __str__ and __add__ Methods:\n",
    "class CustomNumber:\n",
    "    def __init__(self, value):\n",
    "        self.value = value\n",
    "\n",
    "    def __str__(self):\n",
    "        return f\"CustomNumber: {self.value}\"\n",
    "\n",
    "    def __add__(self, other):\n",
    "        return CustomNumber(self.value + other.value)\n",
    "\n",
    "num1 = CustomNumber(10)\n",
    "num2 = CustomNumber(20)\n",
    "print(num1)  \n",
    "print(num1 + num2) \n",
    "\n"
   ]
  },
  {
   "cell_type": "code",
   "execution_count": 19,
   "metadata": {},
   "outputs": [
    {
     "name": "stdout",
     "output_type": "stream",
     "text": [
      "Execution time: 1.0057 seconds\n"
     ]
    }
   ],
   "source": [
    "# 12.Execution Time Decorator:\n",
    "import time\n",
    "\n",
    "def time_decorator(func):\n",
    "    def wrapper(*args, **kwargs):\n",
    "        start_time = time.time()\n",
    "        result = func(*args, **kwargs)\n",
    "        end_time = time.time()\n",
    "        print(f\"Execution time: {end_time - start_time:.4f} seconds\")\n",
    "        return result\n",
    "    return wrapper\n",
    "\n",
    "@time_decorator\n",
    "def some_function():\n",
    "    time.sleep(1)\n",
    "\n",
    "some_function()  \n"
   ]
  },
  {
   "cell_type": "code",
   "execution_count": 20,
   "metadata": {},
   "outputs": [],
   "source": [
    "# 13.The Diamond Problem: The Diamond Problem occurs when a class inherits from two classes that both inherit from a common base class. Python resolves this with the MRO using the C3 linearization algorithm, ensuring that each base class is called only once."
   ]
  },
  {
   "cell_type": "code",
   "execution_count": 25,
   "metadata": {},
   "outputs": [
    {
     "name": "stdout",
     "output_type": "stream",
     "text": [
      "3\n"
     ]
    }
   ],
   "source": [
    "# 14.Tracking Class Instances:\n",
    "class InstanceCounter:\n",
    "    instance_count = 0  # Class attribute to track number of instances\n",
    "\n",
    "    def __init__(self):\n",
    "        InstanceCounter.instance_count += 1  # Increment count each time an instance is created\n",
    "\n",
    "    @classmethod\n",
    "    def get_instance_count(cls):\n",
    "        return cls.instance_count  # Return the current instance count\n",
    "\n",
    "# Example usage\n",
    "obj1 = InstanceCounter()\n",
    "obj2 = InstanceCounter()\n",
    "obj3 = InstanceCounter()\n",
    "\n",
    "print(InstanceCounter.get_instance_count())  # Output: 3\n"
   ]
  },
  {
   "cell_type": "code",
   "execution_count": 24,
   "metadata": {},
   "outputs": [
    {
     "name": "stdout",
     "output_type": "stream",
     "text": [
      "True\n",
      "False\n",
      "True\n"
     ]
    }
   ],
   "source": [
    "# 15.Leap Year Static Method:\n",
    "class Year:\n",
    "    @staticmethod\n",
    "    def is_leap_year(year):\n",
    "        if year % 4 == 0:\n",
    "            if year % 100 == 0:\n",
    "                if year % 400 == 0:\n",
    "                    return True\n",
    "                else:\n",
    "                    return False\n",
    "            else:\n",
    "                return True\n",
    "        else:\n",
    "            return False\n",
    "\n",
    "# Example usage\n",
    "print(Year.is_leap_year(2020))  # Output: True\n",
    "print(Year.is_leap_year(1900))  # Output: False\n",
    "print(Year.is_leap_year(2000))  # Output: True\n",
    "\n"
   ]
  },
  {
   "cell_type": "code",
   "execution_count": null,
   "metadata": {},
   "outputs": [],
   "source": []
  }
 ],
 "metadata": {
  "kernelspec": {
   "display_name": "base",
   "language": "python",
   "name": "python3"
  },
  "language_info": {
   "codemirror_mode": {
    "name": "ipython",
    "version": 3
   },
   "file_extension": ".py",
   "mimetype": "text/x-python",
   "name": "python",
   "nbconvert_exporter": "python",
   "pygments_lexer": "ipython3",
   "version": "3.11.5"
  }
 },
 "nbformat": 4,
 "nbformat_minor": 2
}
